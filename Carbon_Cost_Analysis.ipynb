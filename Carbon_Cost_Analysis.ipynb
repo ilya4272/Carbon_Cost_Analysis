{
 "cells": [
  {
   "cell_type": "code",
   "execution_count": 1,
   "metadata": {},
   "outputs": [],
   "source": [
    "# Import Libraries\n",
    "\n",
    "import pandas as pd\n",
    "import numpy as np\n",
    "\n",
    "import warnings\n",
    "warnings.filterwarnings(\"ignore\")\n",
    "\n",
    "pd.set_option('display.max_rows', None, 'display.max_columns', None)"
   ]
  },
  {
   "cell_type": "code",
   "execution_count": 2,
   "metadata": {},
   "outputs": [],
   "source": [
    "# Upload Data\n",
    "\n",
    "data = pd.read_excel('/Users/ilyasozgur/Desktop/Thesis/Models/Model_for_Thesis/Model_1/Carbon_Analysis/Carbon_Majors_Database_2017_Datasets.xlsx',sheet_name='Scope 1+3')\n",
    "company_list = pd.read_excel('/Users/ilyasozgur/Desktop/Thesis/Models/Model_for_Thesis/Model_1/Carbon_Analysis/Company_List.xlsx',sheet_name='Summary_New_List')\n",
    "currency = pd.read_excel('/Users/ilyasozgur/Desktop/Thesis/Models/Model_for_Thesis/Model_1/Carbon_Analysis/Company_List.xlsx',sheet_name='Currency_Rates')\n",
    "financials = pd.read_excel('/Users/ilyasozgur/Desktop/Thesis/Models/Model_for_Thesis/Model_1/Carbon_Analysis/Financial_Data.xlsx')\n",
    "financials_2 = pd.read_excel('/Users/ilyasozgur/Desktop/Thesis/Models/Model_for_Thesis/Model_1/Carbon_Analysis/Financial_Data2.xlsx')"
   ]
  },
  {
   "cell_type": "code",
   "execution_count": 3,
   "metadata": {},
   "outputs": [],
   "source": [
    "# Upload Data2\n",
    "\n",
    "Energy = pd.read_excel('/Users/ilyasozgur/Desktop/Thesis/Models/Model_for_Thesis/Model_1/Carbon_Analysis/Energy_Data.xlsx')\n",
    "GDP = pd.read_excel('/Users/ilyasozgur/Desktop/Thesis/Models/Model_for_Thesis/Model_1/Carbon_Analysis/GDP_Global.xlsx')\n",
    "Population = pd.read_excel('/Users/ilyasozgur/Desktop/Thesis/Models/Model_for_Thesis/Model_1/Carbon_Analysis/Population.xlsx')"
   ]
  },
  {
   "cell_type": "code",
   "execution_count": 4,
   "metadata": {},
   "outputs": [],
   "source": [
    "# Select the data need for \n",
    "\n",
    "data_company = data.iloc[:,:1]\n",
    "data_columns = data.iloc[:,25:]\n",
    "data_company = pd.concat([data_company,data_columns],axis=1)"
   ]
  },
  {
   "cell_type": "code",
   "execution_count": 5,
   "metadata": {},
   "outputs": [],
   "source": [
    "# Rename the columns\n",
    "\n",
    "data_company = data_company.rename(columns={2012:'GHG_E_2012',2013:'GHG_E_2013',2014:'GHG_E_2014',2015:'GHG_E_2015'})\n",
    "currency = currency.rename(columns={2012:'Currency_2012',2013:'Currency_2013',2014:'Currency_2014',2015:'Currency_2015'})"
   ]
  },
  {
   "cell_type": "code",
   "execution_count": 6,
   "metadata": {},
   "outputs": [],
   "source": [
    "# Merge with data and company_list\n",
    "\n",
    "company_list = company_list.merge(data_company, on='Company', how='left') \n",
    "company_list = company_list.merge(financials,on='Company',how='left')\n",
    "company_list = company_list.merge(currency,on='Currency',how='left')\n",
    "company_list.drop(columns='US', inplace=True)"
   ]
  },
  {
   "cell_type": "code",
   "execution_count": 7,
   "metadata": {},
   "outputs": [],
   "source": [
    "# Apply the new currency to financials\n",
    "\n",
    "company_list['Rev. 2012'] = company_list['Rev. 2012']/company_list['Currency_2012']   \n",
    "company_list['Rev. 2013'] = company_list['Rev. 2013']/company_list['Currency_2013']   \n",
    "company_list['Rev. 2014'] = company_list['Rev. 2014']/company_list['Currency_2014']   \n",
    "company_list['Rev. 2015'] = company_list['Rev. 2015']/company_list['Currency_2015']   \n",
    "\n",
    "company_list['Profit 2012'] = company_list['Profit 2012']/company_list['Currency_2012'] \n",
    "company_list['Profit 2013'] = company_list['Profit 2013']/company_list['Currency_2013'] \n",
    "company_list['Profit 2014'] = company_list['Profit 2014']/company_list['Currency_2014'] \n",
    "company_list['Profit 2015'] = company_list['Profit 2015']/company_list['Currency_2015'] "
   ]
  },
  {
   "cell_type": "code",
   "execution_count": 8,
   "metadata": {},
   "outputs": [],
   "source": [
    "# Drop_Currency Columns \n",
    "\n",
    "company_list.drop(columns='Currency_2012', inplace=True)\n",
    "company_list.drop(columns='Currency_2013', inplace=True)\n",
    "company_list.drop(columns='Currency_2014', inplace=True)\n",
    "company_list.drop(columns='Currency_2015', inplace=True)"
   ]
  },
  {
   "cell_type": "code",
   "execution_count": 9,
   "metadata": {},
   "outputs": [],
   "source": [
    "# Carbon Cost\n",
    "\n",
    "Carbon_Cost_1 = 30"
   ]
  },
  {
   "cell_type": "code",
   "execution_count": 10,
   "metadata": {},
   "outputs": [],
   "source": [
    "# Calculate new Analyse_1\n",
    "\n",
    "company_list['GHG E/Revenue_2012'] = company_list['GHG_E_2012'] / company_list['Rev. 2012']*1000000*Carbon_Cost_1\n",
    "company_list['GHG E/Revenue_2013'] = company_list['GHG_E_2013'] / company_list['Rev. 2013']*1000000*Carbon_Cost_1\n",
    "company_list['GHG E/Revenue_2014'] = company_list['GHG_E_2014'] / company_list['Rev. 2014']*1000000*Carbon_Cost_1\n",
    "company_list['GHG E/Revenue_2015'] = company_list['GHG_E_2015'] / company_list['Rev. 2015']*1000000*Carbon_Cost_1"
   ]
  },
  {
   "cell_type": "code",
   "execution_count": 11,
   "metadata": {},
   "outputs": [],
   "source": [
    "# Calculate new Analyse_2\n",
    "\n",
    "company_list['GHG E/Profit 2012'] = company_list['GHG_E_2012'] / company_list['Profit 2012']*1000000*Carbon_Cost_1\n",
    "company_list['GHG E/Profit 2013'] = company_list['GHG_E_2013'] / company_list['Profit 2013']*1000000*Carbon_Cost_1\n",
    "company_list['GHG E/Profit 2014'] = company_list['GHG_E_2014'] / company_list['Profit 2014']*1000000*Carbon_Cost_1\n",
    "company_list['GHG E/Profit 2015'] = company_list['GHG_E_2015'] / company_list['Profit 2015']*1000000*Carbon_Cost_1"
   ]
  },
  {
   "cell_type": "code",
   "execution_count": 12,
   "metadata": {},
   "outputs": [],
   "source": [
    "# Calculate Analyse_3\n",
    "\n",
    "company_list['Carbon Expense_2012'] = company_list['GHG_E_2012']*1000000*Carbon_Cost_1\n",
    "company_list['Carbon Expense_2013'] = company_list['GHG_E_2013']*1000000*Carbon_Cost_1\n",
    "company_list['Carbon Expense_2014'] = company_list['GHG_E_2014']*1000000*Carbon_Cost_1\n",
    "company_list['Carbon Expense_2015'] = company_list['GHG_E_2015']*1000000*Carbon_Cost_1"
   ]
  },
  {
   "cell_type": "code",
   "execution_count": 13,
   "metadata": {},
   "outputs": [],
   "source": [
    "# Calculate Analyse_4\n",
    "\n",
    "company_list['Profit after Carbon Cost_12'] = company_list['Profit 2012'] - company_list['Carbon Expense_2012']\n",
    "company_list['Profit after Carbon Cost_13'] = company_list['Profit 2013'] - company_list['Carbon Expense_2013']\n",
    "company_list['Profit after Carbon Cost_14'] = company_list['Profit 2014'] - company_list['Carbon Expense_2014']\n",
    "company_list['Profit after Carbon Cost_15'] = company_list['Profit 2015'] - company_list['Carbon Expense_2015']"
   ]
  },
  {
   "cell_type": "code",
   "execution_count": 14,
   "metadata": {},
   "outputs": [],
   "source": [
    "list_1 = company_list.columns[26:32]"
   ]
  },
  {
   "cell_type": "code",
   "execution_count": 15,
   "metadata": {},
   "outputs": [],
   "source": [
    "# later i will complete\n",
    "\n",
    "#for i in company_list.columns:\n",
    "#    if i in list_1:\n",
    "#        print(True)"
   ]
  },
  {
   "cell_type": "code",
   "execution_count": 16,
   "metadata": {},
   "outputs": [],
   "source": [
    "# Decrease Rate for Carbon Emission - Sectoral base\n",
    "\n",
    "Decrease_Rate = 0.2 "
   ]
  },
  {
   "cell_type": "code",
   "execution_count": 17,
   "metadata": {},
   "outputs": [],
   "source": [
    "# Calculate Analyse_5\n",
    "\n",
    "company_list['Profit after Decreased_Carbon_Cost_12'] = company_list['Profit 2012'] - company_list['Carbon Expense_2012']*Decrease_Rate\n",
    "company_list['Profit after Decreased_Carbon_Cost_13'] = company_list['Profit 2013'] - company_list['Carbon Expense_2013']*Decrease_Rate\n",
    "company_list['Profit after Decreased_Carbon_Cost_14'] = company_list['Profit 2014'] - company_list['Carbon Expense_2013']*Decrease_Rate\n",
    "company_list['Profit after Decreased_Carbon_Cost_15'] = company_list['Profit 2015'] - company_list['Carbon Expense_2013']*Decrease_Rate"
   ]
  },
  {
   "cell_type": "code",
   "execution_count": 18,
   "metadata": {},
   "outputs": [],
   "source": [
    "# Calculate Analyse_5\n",
    "\n",
    "company_list['Rev/Carbon Cost 2012'] = company_list['Carbon Expense_2012']/company_list['Rev. 2012']*100\n",
    "company_list['Rev/Carbon Cost 2013'] = company_list['Carbon Expense_2013']/company_list['Rev. 2013']*100\n",
    "company_list['Rev/Carbon Cost 2014'] = company_list['Carbon Expense_2014']/company_list['Rev. 2014']*100\n",
    "company_list['Rev/Carbon Cost 2015'] = company_list['Carbon Expense_2015']/company_list['Rev. 2015']*100"
   ]
  },
  {
   "cell_type": "code",
   "execution_count": 19,
   "metadata": {},
   "outputs": [],
   "source": [
    "#company_list.to_excel('/Users/ilyasozgur/Desktop/test.xlsx')"
   ]
  },
  {
   "cell_type": "markdown",
   "metadata": {},
   "source": [
    "# Machine Learning Part"
   ]
  },
  {
   "cell_type": "markdown",
   "metadata": {},
   "source": [
    "# Predict Emission"
   ]
  },
  {
   "cell_type": "code",
   "execution_count": 20,
   "metadata": {},
   "outputs": [],
   "source": [
    "# Data Preperation\n",
    "\n",
    "data_prep = data.copy()\n",
    "data_prep['Check_Validity'] = np.where(data_prep['Company'].isin(company_list['Company']),'Valid','Invalid')\n",
    "data_prep = data_prep[data_prep['Check_Validity'] == 'Valid']\n",
    "data_prep = data_prep.reset_index()\n",
    "data_prep.drop(columns='index',inplace=True)\n",
    "data_prep.drop(columns='Check_Validity',inplace=True)"
   ]
  },
  {
   "cell_type": "code",
   "execution_count": 21,
   "metadata": {},
   "outputs": [
    {
     "data": {
      "text/plain": [
       "'Anglo American'"
      ]
     },
     "execution_count": 21,
     "metadata": {},
     "output_type": "execute_result"
    }
   ],
   "source": [
    "# Create list of the firm\n",
    "list_of_oil_companies = data_prep['Company'].to_list()\n",
    "list_of_oil_companies[0]"
   ]
  },
  {
   "cell_type": "code",
   "execution_count": 22,
   "metadata": {},
   "outputs": [],
   "source": [
    "# Create datasets for model\n",
    "\n",
    "rn = 0\n",
    "\n",
    "for i in range(len(data_prep['Company'])):\n",
    "    list_of_oil_companies[i] = data_prep.iloc[rn:i+1,]\n",
    "    list_of_oil_companies[i] = list_of_oil_companies[i].T\n",
    "    list_of_oil_companies[i] = list_of_oil_companies[i].reset_index()\n",
    "    len_list = len(list_of_oil_companies[i])\n",
    "    list_of_oil_companies[i] = list_of_oil_companies[i].iloc[1:len_list,]\n",
    "    list_of_oil_companies[i] = list_of_oil_companies[i].rename({'index':'Years',i:'Carbon_Emission'}, axis=1)\n",
    "    list_of_oil_companies[i]['Carbon_Emission'] = list_of_oil_companies[i]['Carbon_Emission'].astype(float)\n",
    "    list_of_oil_companies[i]['Years'] = list_of_oil_companies[i]['Years'].astype(float)\n",
    "    list_of_oil_companies[i]['Carbon_Emission'] = list_of_oil_companies[i]['Carbon_Emission'].round(decimals=2)\n",
    "    rn = rn+1"
   ]
  },
  {
   "cell_type": "code",
   "execution_count": 23,
   "metadata": {},
   "outputs": [
    {
     "data": {
      "text/plain": [
       "Years              float64\n",
       "Carbon_Emission    float64\n",
       "dtype: object"
      ]
     },
     "execution_count": 23,
     "metadata": {},
     "output_type": "execute_result"
    }
   ],
   "source": [
    "# Check the types\n",
    "\n",
    "list_of_oil_companies[2].dtypes"
   ]
  },
  {
   "cell_type": "code",
   "execution_count": 24,
   "metadata": {},
   "outputs": [],
   "source": [
    "# Upload necessary libararies for ML\n",
    "\n",
    "import matplotlib.pyplot as plt\n",
    "from sklearn.model_selection import train_test_split\n",
    "from sklearn import preprocessing\n",
    "from sklearn.preprocessing import StandardScaler\n",
    "from sklearn.linear_model import LinearRegression\n",
    "from sklearn.preprocessing import PolynomialFeatures"
   ]
  },
  {
   "cell_type": "code",
   "execution_count": 25,
   "metadata": {},
   "outputs": [
    {
     "data": {
      "text/html": [
       "<div>\n",
       "<style scoped>\n",
       "    .dataframe tbody tr th:only-of-type {\n",
       "        vertical-align: middle;\n",
       "    }\n",
       "\n",
       "    .dataframe tbody tr th {\n",
       "        vertical-align: top;\n",
       "    }\n",
       "\n",
       "    .dataframe thead th {\n",
       "        text-align: right;\n",
       "    }\n",
       "</style>\n",
       "<table border=\"1\" class=\"dataframe\">\n",
       "  <thead>\n",
       "    <tr style=\"text-align: right;\">\n",
       "      <th></th>\n",
       "      <th>Years</th>\n",
       "      <th>Carbon_Emission</th>\n",
       "    </tr>\n",
       "  </thead>\n",
       "  <tbody>\n",
       "    <tr>\n",
       "      <th>1</th>\n",
       "      <td>1988.0</td>\n",
       "      <td>170.9</td>\n",
       "    </tr>\n",
       "  </tbody>\n",
       "</table>\n",
       "</div>"
      ],
      "text/plain": [
       "    Years  Carbon_Emission\n",
       "1  1988.0            170.9"
      ]
     },
     "execution_count": 25,
     "metadata": {},
     "output_type": "execute_result"
    }
   ],
   "source": [
    "list_of_oil_companies[0].head(1)"
   ]
  },
  {
   "cell_type": "code",
   "execution_count": 26,
   "metadata": {},
   "outputs": [],
   "source": [
    "# Prepare test and train split for model\n",
    "\n",
    "Company_year = data_prep['Company'].to_list()\n",
    "Company_emission = data_prep['Company'].to_list()\n",
    "\n",
    "Company_year_train = data_prep['Company'].to_list()\n",
    "Company_year_test = data_prep['Company'].to_list()\n",
    "Carbon_Emission_train = data_prep['Company'].to_list()\n",
    "Carbon_Emission_test = data_prep['Company'].to_list()\n",
    "\n",
    "for i in range(len(data_prep['Company'])):\n",
    "    Company_year[i] = list_of_oil_companies[i]['Years']\n",
    "    Company_emission[i] = list_of_oil_companies[i]['Carbon_Emission']\n",
    "    Company_year_train[i], Company_year_test[i], Carbon_Emission_train[i], Carbon_Emission_test[i] = train_test_split(Company_year[i],Company_emission[i],test_size=0.33, random_state=0)\n",
    "    "
   ]
  },
  {
   "cell_type": "code",
   "execution_count": 27,
   "metadata": {},
   "outputs": [
    {
     "data": {
      "image/png": "[encoded data removed]",
      "text/plain": [
       "<Figure size 432x288 with 1 Axes>"
      ]
     },
     "metadata": {
      "needs_background": "light"
     },
     "output_type": "display_data"
    }
   ],
   "source": [
    "# Visualize the data \n",
    "\n",
    "for i in range(len(data_prep['Company'])): \n",
    "    plt.scatter(Company_year[i],Company_emission[i],color='red')\n",
    "    \n",
    "plt.title('Carbon Emission Changes overs Years For All Companies')\n",
    "\n",
    "plt.xlabel('Years')\n",
    "plt.ylabel('Carbon Emission Million Tones')\n",
    "\n",
    "#plt.legend(loc=\"upper left\")\n",
    "plt.show()"
   ]
  },
  {
   "cell_type": "code",
   "execution_count": 28,
   "metadata": {},
   "outputs": [],
   "source": [
    "# Linear Model - Predict Emission\n",
    "\n",
    "Carbon_Emission_2035 = data_prep['Company'].to_list()\n",
    "\n",
    "Emission_2035 = pd.DataFrame([], columns =['Emission_2035'])\n",
    "\n",
    "for i in range(len(data_prep['Company'])):\n",
    "    \n",
    "    lr = LinearRegression()\n",
    "    lr.fit(pd.DataFrame(Company_year_train[i]),pd.DataFrame(Carbon_Emission_train[i]))\n",
    "    Carbon_Emission_2035[i] = lr.predict([[2035]])\n",
    "    \n",
    "    df = pd.DataFrame(Carbon_Emission_2035[i][0], columns=['Emission_2035'])\n",
    "    \n",
    "    Emission_2035 = pd.concat([Emission_2035,df])\n",
    "    \n",
    "Emission_2035 = Emission_2035.reset_index()\n",
    "Emission_2035 = Emission_2035.drop(columns='index')"
   ]
  },
  {
   "cell_type": "code",
   "execution_count": 29,
   "metadata": {},
   "outputs": [],
   "source": [
    "# Emission 2035 \n",
    "\n",
    "Emission_2035 = pd.concat([data_prep,Emission_2035],axis=1)"
   ]
  },
  {
   "cell_type": "code",
   "execution_count": 30,
   "metadata": {},
   "outputs": [],
   "source": [
    "Emission_2035 = Emission_2035[['Company','Emission_2035']]"
   ]
  },
  {
   "cell_type": "code",
   "execution_count": 31,
   "metadata": {},
   "outputs": [
    {
     "data": {
      "text/html": [
       "<div>\n",
       "<style scoped>\n",
       "    .dataframe tbody tr th:only-of-type {\n",
       "        vertical-align: middle;\n",
       "    }\n",
       "\n",
       "    .dataframe tbody tr th {\n",
       "        vertical-align: top;\n",
       "    }\n",
       "\n",
       "    .dataframe thead th {\n",
       "        text-align: right;\n",
       "    }\n",
       "</style>\n",
       "<table border=\"1\" class=\"dataframe\">\n",
       "  <thead>\n",
       "    <tr style=\"text-align: right;\">\n",
       "      <th></th>\n",
       "      <th>Company</th>\n",
       "      <th>Emission_2035</th>\n",
       "    </tr>\n",
       "  </thead>\n",
       "  <tbody>\n",
       "    <tr>\n",
       "      <th>0</th>\n",
       "      <td>Anglo American</td>\n",
       "      <td>281.433748</td>\n",
       "    </tr>\n",
       "    <tr>\n",
       "      <th>1</th>\n",
       "      <td>BHP Billiton Ltd</td>\n",
       "      <td>584.231636</td>\n",
       "    </tr>\n",
       "    <tr>\n",
       "      <th>2</th>\n",
       "      <td>BP PLC</td>\n",
       "      <td>454.444249</td>\n",
       "    </tr>\n",
       "    <tr>\n",
       "      <th>3</th>\n",
       "      <td>Chevron Corp</td>\n",
       "      <td>309.413333</td>\n",
       "    </tr>\n",
       "    <tr>\n",
       "      <th>4</th>\n",
       "      <td>China National Petroleum Corp (CNPC)</td>\n",
       "      <td>801.139280</td>\n",
       "    </tr>\n",
       "    <tr>\n",
       "      <th>5</th>\n",
       "      <td>ConocoPhillips</td>\n",
       "      <td>269.354017</td>\n",
       "    </tr>\n",
       "    <tr>\n",
       "      <th>6</th>\n",
       "      <td>ExxonMobil Corp</td>\n",
       "      <td>513.547668</td>\n",
       "    </tr>\n",
       "    <tr>\n",
       "      <th>7</th>\n",
       "      <td>Gazprom OAO</td>\n",
       "      <td>1419.955287</td>\n",
       "    </tr>\n",
       "    <tr>\n",
       "      <th>8</th>\n",
       "      <td>Kuwait Petroleum Corp</td>\n",
       "      <td>652.750855</td>\n",
       "    </tr>\n",
       "    <tr>\n",
       "      <th>9</th>\n",
       "      <td>Lukoil OAO</td>\n",
       "      <td>570.780073</td>\n",
       "    </tr>\n",
       "    <tr>\n",
       "      <th>10</th>\n",
       "      <td>Petroleo Brasileiro SA (Petrobras)</td>\n",
       "      <td>685.199707</td>\n",
       "    </tr>\n",
       "    <tr>\n",
       "      <th>11</th>\n",
       "      <td>Petroleos Mexicanos (Pemex)</td>\n",
       "      <td>731.398681</td>\n",
       "    </tr>\n",
       "    <tr>\n",
       "      <th>12</th>\n",
       "      <td>Rosneft OAO</td>\n",
       "      <td>1070.565287</td>\n",
       "    </tr>\n",
       "    <tr>\n",
       "      <th>13</th>\n",
       "      <td>Royal Dutch Shell PLC</td>\n",
       "      <td>584.524176</td>\n",
       "    </tr>\n",
       "    <tr>\n",
       "      <th>14</th>\n",
       "      <td>Total SA</td>\n",
       "      <td>418.878510</td>\n",
       "    </tr>\n",
       "  </tbody>\n",
       "</table>\n",
       "</div>"
      ],
      "text/plain": [
       "                                 Company  Emission_2035\n",
       "0                         Anglo American     281.433748\n",
       "1                       BHP Billiton Ltd     584.231636\n",
       "2                                 BP PLC     454.444249\n",
       "3                           Chevron Corp     309.413333\n",
       "4   China National Petroleum Corp (CNPC)     801.139280\n",
       "5                         ConocoPhillips     269.354017\n",
       "6                        ExxonMobil Corp     513.547668\n",
       "7                            Gazprom OAO    1419.955287\n",
       "8                  Kuwait Petroleum Corp     652.750855\n",
       "9                             Lukoil OAO     570.780073\n",
       "10    Petroleo Brasileiro SA (Petrobras)     685.199707\n",
       "11           Petroleos Mexicanos (Pemex)     731.398681\n",
       "12                           Rosneft OAO    1070.565287\n",
       "13                 Royal Dutch Shell PLC     584.524176\n",
       "14                              Total SA     418.878510"
      ]
     },
     "execution_count": 31,
     "metadata": {},
     "output_type": "execute_result"
    }
   ],
   "source": [
    "Emission_2035"
   ]
  },
  {
   "cell_type": "code",
   "execution_count": 32,
   "metadata": {},
   "outputs": [],
   "source": [
    "data_emission_2015 = data.copy()"
   ]
  },
  {
   "cell_type": "code",
   "execution_count": 33,
   "metadata": {},
   "outputs": [],
   "source": [
    "data_emission_2015 = data_emission_2015[['Company',2010,2015]]\n",
    "data_emission_2015['Validation'] = np.where(data_emission_2015['Company'].isin(Emission_2035['Company']),'Valid','Invalid')\n",
    "data_emission_2015 = data_emission_2015[data_emission_2015['Validation'] == 'Valid']\n",
    "data_emission_2015 = data_emission_2015[['Company',2010,2015]]\n",
    "data_emission_2015 = data_emission_2015.reset_index()\n",
    "data_emission_2015 = data_emission_2015.drop(columns='index')\n",
    "data_emission_2015 = data_emission_2015.merge(Emission_2035, on='Company', how='left')\n",
    "data_emission_2015 = data_emission_2015.rename({'Emission_2035' : 2035},axis=1)"
   ]
  },
  {
   "cell_type": "code",
   "execution_count": 34,
   "metadata": {},
   "outputs": [],
   "source": [
    "data_emission_2015 = data_emission_2015.sort_values([2010], ascending=False)\n",
    "data_emission_2015 = data_emission_2015.iloc[:5,:]\n",
    "data_emission_2015 = data_emission_2015.reset_index()\n",
    "data_emission_2015.drop(columns='index', inplace=True)"
   ]
  },
  {
   "cell_type": "code",
   "execution_count": 35,
   "metadata": {},
   "outputs": [
    {
     "data": {
      "text/html": [
       "<div>\n",
       "<style scoped>\n",
       "    .dataframe tbody tr th:only-of-type {\n",
       "        vertical-align: middle;\n",
       "    }\n",
       "\n",
       "    .dataframe tbody tr th {\n",
       "        vertical-align: top;\n",
       "    }\n",
       "\n",
       "    .dataframe thead th {\n",
       "        text-align: right;\n",
       "    }\n",
       "</style>\n",
       "<table border=\"1\" class=\"dataframe\">\n",
       "  <thead>\n",
       "    <tr style=\"text-align: right;\">\n",
       "      <th></th>\n",
       "      <th>Company</th>\n",
       "      <th>2010</th>\n",
       "      <th>2015</th>\n",
       "      <th>2035</th>\n",
       "    </tr>\n",
       "  </thead>\n",
       "  <tbody>\n",
       "    <tr>\n",
       "      <th>0</th>\n",
       "      <td>Gazprom OAO</td>\n",
       "      <td>1212.744637</td>\n",
       "      <td>1137.706591</td>\n",
       "      <td>1419.955287</td>\n",
       "    </tr>\n",
       "    <tr>\n",
       "      <th>1</th>\n",
       "      <td>China National Petroleum Corp (CNPC)</td>\n",
       "      <td>641.330373</td>\n",
       "      <td>624.880576</td>\n",
       "      <td>801.139280</td>\n",
       "    </tr>\n",
       "    <tr>\n",
       "      <th>2</th>\n",
       "      <td>ExxonMobil Corp</td>\n",
       "      <td>621.127376</td>\n",
       "      <td>577.164250</td>\n",
       "      <td>513.547668</td>\n",
       "    </tr>\n",
       "    <tr>\n",
       "      <th>3</th>\n",
       "      <td>Petroleos Mexicanos (Pemex)</td>\n",
       "      <td>605.812410</td>\n",
       "      <td>529.882092</td>\n",
       "      <td>731.398681</td>\n",
       "    </tr>\n",
       "    <tr>\n",
       "      <th>4</th>\n",
       "      <td>Royal Dutch Shell PLC</td>\n",
       "      <td>539.897660</td>\n",
       "      <td>507.798817</td>\n",
       "      <td>584.524176</td>\n",
       "    </tr>\n",
       "  </tbody>\n",
       "</table>\n",
       "</div>"
      ],
      "text/plain": [
       "                                Company         2010         2015         2035\n",
       "0                           Gazprom OAO  1212.744637  1137.706591  1419.955287\n",
       "1  China National Petroleum Corp (CNPC)   641.330373   624.880576   801.139280\n",
       "2                       ExxonMobil Corp   621.127376   577.164250   513.547668\n",
       "3           Petroleos Mexicanos (Pemex)   605.812410   529.882092   731.398681\n",
       "4                 Royal Dutch Shell PLC   539.897660   507.798817   584.524176"
      ]
     },
     "execution_count": 35,
     "metadata": {},
     "output_type": "execute_result"
    }
   ],
   "source": [
    "data_emission_2015"
   ]
  },
  {
   "cell_type": "code",
   "execution_count": 36,
   "metadata": {},
   "outputs": [],
   "source": [
    "data_emission_2015_T = data_emission_2015.T\n",
    "data_emission_2015_T.columns = data_emission_2015_T.iloc[0]\n",
    "data_emission_2015_T = data_emission_2015_T[1:]\n",
    "data_emission_2015_T = data_emission_2015_T.reset_index()\n",
    "data_emission_2015_T = data_emission_2015_T.rename({'index' : 'Year'},axis=1)"
   ]
  },
  {
   "cell_type": "code",
   "execution_count": 37,
   "metadata": {},
   "outputs": [
    {
     "data": {
      "text/plain": [
       "Index(['Gazprom OAO', 'China National Petroleum Corp (CNPC)',\n",
       "       'ExxonMobil Corp', 'Petroleos Mexicanos (Pemex)',\n",
       "       'Royal Dutch Shell PLC'],\n",
       "      dtype='object', name='Company')"
      ]
     },
     "execution_count": 37,
     "metadata": {},
     "output_type": "execute_result"
    }
   ],
   "source": [
    "data_emission_2015_T.columns[1:]"
   ]
  },
  {
   "cell_type": "code",
   "execution_count": 38,
   "metadata": {},
   "outputs": [
    {
     "data": {
      "text/html": [
       "<div>\n",
       "<style scoped>\n",
       "    .dataframe tbody tr th:only-of-type {\n",
       "        vertical-align: middle;\n",
       "    }\n",
       "\n",
       "    .dataframe tbody tr th {\n",
       "        vertical-align: top;\n",
       "    }\n",
       "\n",
       "    .dataframe thead th {\n",
       "        text-align: right;\n",
       "    }\n",
       "</style>\n",
       "<table border=\"1\" class=\"dataframe\">\n",
       "  <thead>\n",
       "    <tr style=\"text-align: right;\">\n",
       "      <th>Company</th>\n",
       "      <th>Year</th>\n",
       "      <th>Gazprom OAO</th>\n",
       "      <th>China National Petroleum Corp (CNPC)</th>\n",
       "      <th>ExxonMobil Corp</th>\n",
       "      <th>Petroleos Mexicanos (Pemex)</th>\n",
       "      <th>Royal Dutch Shell PLC</th>\n",
       "    </tr>\n",
       "  </thead>\n",
       "  <tbody>\n",
       "    <tr>\n",
       "      <th>0</th>\n",
       "      <td>2010</td>\n",
       "      <td>1212.74</td>\n",
       "      <td>641.33</td>\n",
       "      <td>621.127</td>\n",
       "      <td>605.812</td>\n",
       "      <td>539.898</td>\n",
       "    </tr>\n",
       "    <tr>\n",
       "      <th>1</th>\n",
       "      <td>2015</td>\n",
       "      <td>1137.71</td>\n",
       "      <td>624.881</td>\n",
       "      <td>577.164</td>\n",
       "      <td>529.882</td>\n",
       "      <td>507.799</td>\n",
       "    </tr>\n",
       "    <tr>\n",
       "      <th>2</th>\n",
       "      <td>2035</td>\n",
       "      <td>1419.96</td>\n",
       "      <td>801.139</td>\n",
       "      <td>513.548</td>\n",
       "      <td>731.399</td>\n",
       "      <td>584.524</td>\n",
       "    </tr>\n",
       "  </tbody>\n",
       "</table>\n",
       "</div>"
      ],
      "text/plain": [
       "Company  Year Gazprom OAO China National Petroleum Corp (CNPC)  \\\n",
       "0        2010     1212.74                               641.33   \n",
       "1        2015     1137.71                              624.881   \n",
       "2        2035     1419.96                              801.139   \n",
       "\n",
       "Company ExxonMobil Corp Petroleos Mexicanos (Pemex) Royal Dutch Shell PLC  \n",
       "0               621.127                     605.812               539.898  \n",
       "1               577.164                     529.882               507.799  \n",
       "2               513.548                     731.399               584.524  "
      ]
     },
     "execution_count": 38,
     "metadata": {},
     "output_type": "execute_result"
    }
   ],
   "source": [
    "data_emission_2015_T"
   ]
  },
  {
   "cell_type": "code",
   "execution_count": 39,
   "metadata": {},
   "outputs": [
    {
     "data": {
      "image/png": "[encoded data removed]",
      "text/plain": [
       "<Figure size 864x576 with 1 Axes>"
      ]
     },
     "metadata": {
      "needs_background": "light"
     },
     "output_type": "display_data"
    }
   ],
   "source": [
    "plt.figure(figsize=(12, 8))\n",
    "\n",
    "for i in data_emission_2015_T.columns[1:]: \n",
    "    plt.plot(data_emission_2015_T['Year'],data_emission_2015_T[i], label=i)\n",
    "       \n",
    "plt.title('Carbon Emission Prediction')\n",
    "    \n",
    "plt.xlabel('Years')\n",
    "plt.ylabel(' Carbon Emission Million Tones')\n",
    "\n",
    "plt.legend(loc=\"upper left\")\n",
    "plt.show()"
   ]
  },
  {
   "cell_type": "markdown",
   "metadata": {},
   "source": [
    "# Predict Revenue Model Selection"
   ]
  },
  {
   "cell_type": "markdown",
   "metadata": {},
   "source": [
    "# Data Preperation"
   ]
  },
  {
   "cell_type": "code",
   "execution_count": 40,
   "metadata": {},
   "outputs": [],
   "source": [
    "data_prep_2 = financials_2.copy()"
   ]
  },
  {
   "cell_type": "code",
   "execution_count": 41,
   "metadata": {},
   "outputs": [],
   "source": [
    "for i in (Energy.columns):\n",
    "    Energy[i] = Energy[i].astype(float) "
   ]
  },
  {
   "cell_type": "code",
   "execution_count": 42,
   "metadata": {},
   "outputs": [],
   "source": [
    "for i in (GDP.columns):\n",
    "    GDP[i] = GDP[i].astype(float) \n",
    "    \n",
    "GDP.drop(columns='Year', inplace=True)"
   ]
  },
  {
   "cell_type": "code",
   "execution_count": 43,
   "metadata": {},
   "outputs": [],
   "source": [
    "for i in (Population.columns):\n",
    "    Population[i] = Population[i].astype(float) \n",
    "    \n",
    "Population.drop(columns='Year', inplace=True)"
   ]
  },
  {
   "cell_type": "code",
   "execution_count": 44,
   "metadata": {},
   "outputs": [
    {
     "data": {
      "text/html": [
       "<div>\n",
       "<style scoped>\n",
       "    .dataframe tbody tr th:only-of-type {\n",
       "        vertical-align: middle;\n",
       "    }\n",
       "\n",
       "    .dataframe tbody tr th {\n",
       "        vertical-align: top;\n",
       "    }\n",
       "\n",
       "    .dataframe thead th {\n",
       "        text-align: right;\n",
       "    }\n",
       "</style>\n",
       "<table border=\"1\" class=\"dataframe\">\n",
       "  <thead>\n",
       "    <tr style=\"text-align: right;\">\n",
       "      <th></th>\n",
       "      <th>kt of CO2 equivalent</th>\n",
       "      <th>% of Electricity from Renewables</th>\n",
       "      <th>% of Total Energy Use</th>\n",
       "      <th>% of Electricity from Coal</th>\n",
       "      <th>Energy Prices</th>\n",
       "      <th>GDP</th>\n",
       "      <th>GDP Growth (%)</th>\n",
       "      <th>Population</th>\n",
       "    </tr>\n",
       "  </thead>\n",
       "  <tbody>\n",
       "    <tr>\n",
       "      <th>0</th>\n",
       "      <td>43582450.0</td>\n",
       "      <td>0.2171</td>\n",
       "      <td>0.8117</td>\n",
       "      <td>0.4028</td>\n",
       "      <td>109.40</td>\n",
       "      <td>75154.0</td>\n",
       "      <td>0.0252</td>\n",
       "      <td>7.125828e+09</td>\n",
       "    </tr>\n",
       "    <tr>\n",
       "      <th>1</th>\n",
       "      <td>44233530.0</td>\n",
       "      <td>0.2241</td>\n",
       "      <td>0.8094</td>\n",
       "      <td>0.4104</td>\n",
       "      <td>105.87</td>\n",
       "      <td>77315.0</td>\n",
       "      <td>0.0267</td>\n",
       "      <td>7.210582e+09</td>\n",
       "    </tr>\n",
       "    <tr>\n",
       "      <th>2</th>\n",
       "      <td>44438190.0</td>\n",
       "      <td>0.2285</td>\n",
       "      <td>0.8091</td>\n",
       "      <td>0.4049</td>\n",
       "      <td>96.29</td>\n",
       "      <td>79446.0</td>\n",
       "      <td>0.0287</td>\n",
       "      <td>7.295291e+09</td>\n",
       "    </tr>\n",
       "    <tr>\n",
       "      <th>3</th>\n",
       "      <td>44423270.0</td>\n",
       "      <td>0.2285</td>\n",
       "      <td>0.7968</td>\n",
       "      <td>0.3917</td>\n",
       "      <td>49.49</td>\n",
       "      <td>75233.0</td>\n",
       "      <td>0.0292</td>\n",
       "      <td>7.379797e+09</td>\n",
       "    </tr>\n",
       "    <tr>\n",
       "      <th>4</th>\n",
       "      <td>44550150.0</td>\n",
       "      <td>0.2285</td>\n",
       "      <td>0.7968</td>\n",
       "      <td>0.3917</td>\n",
       "      <td>40.76</td>\n",
       "      <td>76429.0</td>\n",
       "      <td>0.0261</td>\n",
       "      <td>7.464022e+09</td>\n",
       "    </tr>\n",
       "    <tr>\n",
       "      <th>5</th>\n",
       "      <td>45117640.0</td>\n",
       "      <td>0.2285</td>\n",
       "      <td>0.7968</td>\n",
       "      <td>0.3917</td>\n",
       "      <td>52.43</td>\n",
       "      <td>81359.0</td>\n",
       "      <td>0.0328</td>\n",
       "      <td>7.547859e+09</td>\n",
       "    </tr>\n",
       "    <tr>\n",
       "      <th>6</th>\n",
       "      <td>45873850.0</td>\n",
       "      <td>0.2285</td>\n",
       "      <td>0.7968</td>\n",
       "      <td>0.3917</td>\n",
       "      <td>69.78</td>\n",
       "      <td>86347.0</td>\n",
       "      <td>0.0303</td>\n",
       "      <td>7.631091e+09</td>\n",
       "    </tr>\n",
       "    <tr>\n",
       "      <th>7</th>\n",
       "      <td>45873850.0</td>\n",
       "      <td>0.2285</td>\n",
       "      <td>0.7968</td>\n",
       "      <td>0.3917</td>\n",
       "      <td>41.47</td>\n",
       "      <td>87607.0</td>\n",
       "      <td>0.0233</td>\n",
       "      <td>7.713468e+09</td>\n",
       "    </tr>\n",
       "    <tr>\n",
       "      <th>8</th>\n",
       "      <td>45873850.0</td>\n",
       "      <td>0.2285</td>\n",
       "      <td>0.7968</td>\n",
       "      <td>0.3917</td>\n",
       "      <td>64.04</td>\n",
       "      <td>84705.0</td>\n",
       "      <td>-0.0360</td>\n",
       "      <td>7.794799e+09</td>\n",
       "    </tr>\n",
       "  </tbody>\n",
       "</table>\n",
       "</div>"
      ],
      "text/plain": [
       "   kt of CO2 equivalent  % of Electricity from Renewables  \\\n",
       "0            43582450.0                            0.2171   \n",
       "1            44233530.0                            0.2241   \n",
       "2            44438190.0                            0.2285   \n",
       "3            44423270.0                            0.2285   \n",
       "4            44550150.0                            0.2285   \n",
       "5            45117640.0                            0.2285   \n",
       "6            45873850.0                            0.2285   \n",
       "7            45873850.0                            0.2285   \n",
       "8            45873850.0                            0.2285   \n",
       "\n",
       "   % of Total Energy Use  % of Electricity from Coal  Energy Prices      GDP  \\\n",
       "0                 0.8117                      0.4028         109.40  75154.0   \n",
       "1                 0.8094                      0.4104         105.87  77315.0   \n",
       "2                 0.8091                      0.4049          96.29  79446.0   \n",
       "3                 0.7968                      0.3917          49.49  75233.0   \n",
       "4                 0.7968                      0.3917          40.76  76429.0   \n",
       "5                 0.7968                      0.3917          52.43  81359.0   \n",
       "6                 0.7968                      0.3917          69.78  86347.0   \n",
       "7                 0.7968                      0.3917          41.47  87607.0   \n",
       "8                 0.7968                      0.3917          64.04  84705.0   \n",
       "\n",
       "   GDP Growth (%)    Population  \n",
       "0          0.0252  7.125828e+09  \n",
       "1          0.0267  7.210582e+09  \n",
       "2          0.0287  7.295291e+09  \n",
       "3          0.0292  7.379797e+09  \n",
       "4          0.0261  7.464022e+09  \n",
       "5          0.0328  7.547859e+09  \n",
       "6          0.0303  7.631091e+09  \n",
       "7          0.0233  7.713468e+09  \n",
       "8         -0.0360  7.794799e+09  "
      ]
     },
     "execution_count": 44,
     "metadata": {},
     "output_type": "execute_result"
    }
   ],
   "source": [
    "additional_features = pd.concat([Energy,GDP,Population],axis=1)\n",
    "additional_features.drop(columns='Year', inplace=True)\n",
    "additional_features"
   ]
  },
  {
   "cell_type": "code",
   "execution_count": 45,
   "metadata": {},
   "outputs": [],
   "source": [
    "for i in (data_prep_2.columns):\n",
    "    if i != 'Company':\n",
    "        data_prep_2[i] = data_prep_2[i].astype(float) "
   ]
  },
  {
   "cell_type": "code",
   "execution_count": 46,
   "metadata": {},
   "outputs": [],
   "source": [
    "data_prep_2_rev = data_prep_2.iloc[:,:10]\n",
    "data_prep_2_pr  = data_prep_2.iloc[:,10:]"
   ]
  },
  {
   "cell_type": "code",
   "execution_count": 47,
   "metadata": {},
   "outputs": [],
   "source": [
    "data_prep_2_rev = data_prep_2_rev.rename(columns={'Rev. 2012':2012,'Rev. 2013':2013,'Rev. 2014':2014,'Currency_2015':2015,\n",
    "                                                  'Rev. 2015':2015,'Rev. 2016':2016,'Rev. 2017':2017,'Currency_2018':2018,\n",
    "                                                  'Rev. 2018':2018,'Rev. 2019':2019,'Rev. 2020':2020})"
   ]
  },
  {
   "cell_type": "code",
   "execution_count": 48,
   "metadata": {},
   "outputs": [],
   "source": [
    "# Create Seperate Date Frame for each customer\n",
    "\n",
    "data_prep_2_rev = data_prep_2_rev.iloc[:,1:]\n",
    "data_prep_2_rev_1 = data_prep_2_rev.iloc[14:15,0:]\n",
    "data_prep_2_rev_1_T = data_prep_2_rev_1.T\n",
    "data_prep_2_rev_1_T.reset_index(inplace=True)\n",
    "data_prep_2_rev_1_T = data_prep_2_rev_1_T.rename({'index':'Years',14:'Rev'}, axis=1)"
   ]
  },
  {
   "cell_type": "code",
   "execution_count": 49,
   "metadata": {},
   "outputs": [
    {
     "data": {
      "text/html": [
       "<div>\n",
       "<style scoped>\n",
       "    .dataframe tbody tr th:only-of-type {\n",
       "        vertical-align: middle;\n",
       "    }\n",
       "\n",
       "    .dataframe tbody tr th {\n",
       "        vertical-align: top;\n",
       "    }\n",
       "\n",
       "    .dataframe thead th {\n",
       "        text-align: right;\n",
       "    }\n",
       "</style>\n",
       "<table border=\"1\" class=\"dataframe\">\n",
       "  <thead>\n",
       "    <tr style=\"text-align: right;\">\n",
       "      <th></th>\n",
       "      <th>Years</th>\n",
       "      <th>Rev</th>\n",
       "    </tr>\n",
       "  </thead>\n",
       "  <tbody>\n",
       "    <tr>\n",
       "      <th>0</th>\n",
       "      <td>2012</td>\n",
       "      <td>2.868000e+10</td>\n",
       "    </tr>\n",
       "    <tr>\n",
       "      <th>1</th>\n",
       "      <td>2013</td>\n",
       "      <td>2.934200e+10</td>\n",
       "    </tr>\n",
       "    <tr>\n",
       "      <th>2</th>\n",
       "      <td>2014</td>\n",
       "      <td>2.707300e+10</td>\n",
       "    </tr>\n",
       "    <tr>\n",
       "      <th>3</th>\n",
       "      <td>2015</td>\n",
       "      <td>2.045500e+10</td>\n",
       "    </tr>\n",
       "    <tr>\n",
       "      <th>4</th>\n",
       "      <td>2016</td>\n",
       "      <td>2.137800e+10</td>\n",
       "    </tr>\n",
       "    <tr>\n",
       "      <th>5</th>\n",
       "      <td>2017</td>\n",
       "      <td>2.624300e+10</td>\n",
       "    </tr>\n",
       "    <tr>\n",
       "      <th>6</th>\n",
       "      <td>2018</td>\n",
       "      <td>2.761000e+10</td>\n",
       "    </tr>\n",
       "    <tr>\n",
       "      <th>7</th>\n",
       "      <td>2019</td>\n",
       "      <td>2.987000e+10</td>\n",
       "    </tr>\n",
       "    <tr>\n",
       "      <th>8</th>\n",
       "      <td>2020</td>\n",
       "      <td>3.090200e+10</td>\n",
       "    </tr>\n",
       "  </tbody>\n",
       "</table>\n",
       "</div>"
      ],
      "text/plain": [
       "   Years           Rev\n",
       "0   2012  2.868000e+10\n",
       "1   2013  2.934200e+10\n",
       "2   2014  2.707300e+10\n",
       "3   2015  2.045500e+10\n",
       "4   2016  2.137800e+10\n",
       "5   2017  2.624300e+10\n",
       "6   2018  2.761000e+10\n",
       "7   2019  2.987000e+10\n",
       "8   2020  3.090200e+10"
      ]
     },
     "execution_count": 49,
     "metadata": {},
     "output_type": "execute_result"
    }
   ],
   "source": [
    "data_prep_2_rev_1_T"
   ]
  },
  {
   "cell_type": "markdown",
   "metadata": {},
   "source": [
    "# Test and Train Split"
   ]
  },
  {
   "cell_type": "code",
   "execution_count": 50,
   "metadata": {},
   "outputs": [
    {
     "data": {
      "text/plain": [
       "Years    float64\n",
       "Rev      float64\n",
       "dtype: object"
      ]
     },
     "execution_count": 50,
     "metadata": {},
     "output_type": "execute_result"
    }
   ],
   "source": [
    "data_prep_2_rev_1_T = data_prep_2_rev_1_T.astype(float)\n",
    "data_prep_2_rev_1_T.dtypes"
   ]
  },
  {
   "cell_type": "markdown",
   "metadata": {},
   "source": [
    "# Feature Selection"
   ]
  },
  {
   "cell_type": "code",
   "execution_count": 51,
   "metadata": {},
   "outputs": [],
   "source": [
    "data_prep_2_rev_1_T = pd.concat([data_prep_2_rev_1_T,additional_features],axis=1)"
   ]
  },
  {
   "cell_type": "code",
   "execution_count": 52,
   "metadata": {},
   "outputs": [],
   "source": [
    "x = data_prep_2_rev_1_T[['Years','kt of CO2 equivalent','% of Electricity from Renewables','% of Electricity from Coal',\n",
    "                         'Energy Prices','GDP','Population']]\n",
    "y  = data_prep_2_rev_1_T['Rev']"
   ]
  },
  {
   "cell_type": "code",
   "execution_count": 53,
   "metadata": {},
   "outputs": [],
   "source": [
    "x_train, x_test, y_train, y_test = train_test_split(x,y,test_size=0.33, random_state=0)"
   ]
  },
  {
   "cell_type": "code",
   "execution_count": 54,
   "metadata": {},
   "outputs": [
    {
     "name": "stdout",
     "output_type": "stream",
     "text": [
      "\n"
     ]
    }
   ],
   "source": [
    "'''\n",
    "from sklearn.preprocessing import MinMaxScaler\n",
    "\n",
    "# fit scaler on training data\n",
    "norm = MinMaxScaler().fit(x_train)\n",
    "# transform training data\n",
    "x_train = norm.transform(x_train)\n",
    "\n",
    "\n",
    "# fit scaler on training data\n",
    "norm = MinMaxScaler().fit(x_test)\n",
    "# transform training data\n",
    "x_test = norm.transform(x_test)\n",
    "'''\n",
    "print('')"
   ]
  },
  {
   "cell_type": "markdown",
   "metadata": {},
   "source": [
    "## Error Functions "
   ]
  },
  {
   "cell_type": "code",
   "execution_count": 55,
   "metadata": {},
   "outputs": [],
   "source": [
    "def mse_loss(y_pred, y_true):\n",
    "    squared_error = (y_pred - y_true) ** 2\n",
    "    sum_squared_error = np.sum(squared_error)\n",
    "    loss = sum_squared_error / y_true.size\n",
    "    return loss"
   ]
  },
  {
   "cell_type": "code",
   "execution_count": 56,
   "metadata": {},
   "outputs": [],
   "source": [
    "def mae_loss(y_pred, y_true):\n",
    "    abs_error = np.abs(y_pred - y_true)\n",
    "    sum_abs_error = np.sum(abs_error)\n",
    "    loss = sum_abs_error / y_true.size\n",
    "    return loss"
   ]
  },
  {
   "cell_type": "markdown",
   "metadata": {},
   "source": [
    "# Model Building "
   ]
  },
  {
   "cell_type": "markdown",
   "metadata": {},
   "source": [
    "## Model_1 - Linear Regression"
   ]
  },
  {
   "cell_type": "code",
   "execution_count": 57,
   "metadata": {},
   "outputs": [
    {
     "data": {
      "text/plain": [
       "LinearRegression(copy_X=True, fit_intercept=True, n_jobs=None, normalize=False)"
      ]
     },
     "execution_count": 57,
     "metadata": {},
     "output_type": "execute_result"
    }
   ],
   "source": [
    "lr = LinearRegression()\n",
    "lr.fit(x_train, y_train)"
   ]
  },
  {
   "cell_type": "code",
   "execution_count": 58,
   "metadata": {},
   "outputs": [],
   "source": [
    "# Calculates Error Rates\n",
    "\n",
    "LR_prediction = lr.predict(x_test)\n",
    "LR_prediction = pd.DataFrame(LR_prediction, columns=['Prediction_LR'])\n",
    "LR_prediction = LR_prediction.astype(float)\n",
    "\n",
    "LR_prediction = pd.concat([LR_prediction,y_test],axis=1)\n",
    "\n",
    "# MSE\n",
    "\n",
    "LR_prediction['diff'] = LR_prediction['Prediction_LR'] - LR_prediction['Rev']\n",
    "LR_prediction['diff'] = LR_prediction['diff'] ** 2\n",
    "Sum_Squared_Error_LR = np.sum(LR_prediction['diff'])/LR_prediction['diff'].size\n",
    "Sum_Squared_Error_LR = Sum_Squared_Error_LR/100000000000000000000\n",
    "\n",
    "\n",
    "# MAE\n",
    "\n",
    "LR_prediction['diff2'] = abs(LR_prediction['Prediction_LR'] - LR_prediction['Rev'])\n",
    "Sum_Absolute_Error_LR = np.sum(LR_prediction['diff2'])\n",
    "Sum_Absolute_Error_LR = Sum_Absolute_Error_LR/LR_prediction['diff2'].size\n",
    "Sum_Absolute_Error_LR = Sum_Absolute_Error_LR/10000000000"
   ]
  },
  {
   "cell_type": "code",
   "execution_count": 59,
   "metadata": {},
   "outputs": [
    {
     "name": "stdout",
     "output_type": "stream",
     "text": [
      "Prediction for the 2035 Revenue is: 4552.288517397 bn $\n",
      "MSE is 0.29881644661411044\n",
      "MAE 0.37961695033125\n"
     ]
    }
   ],
   "source": [
    "predict_lr = lr.predict([[2035,17820060.0,0.65,0.15,180,90000,8500000000]])\n",
    "predict_lr = int(predict_lr)/1000000000\n",
    "print('Prediction for the 2035 Revenue is:', predict_lr,'bn $')\n",
    "print('MSE is', Sum_Squared_Error_LR)\n",
    "print('MAE', Sum_Absolute_Error_LR)"
   ]
  },
  {
   "cell_type": "markdown",
   "metadata": {},
   "source": [
    "## Model_2 - SVM Regression"
   ]
  },
  {
   "cell_type": "code",
   "execution_count": 60,
   "metadata": {},
   "outputs": [],
   "source": [
    "from sklearn import svm"
   ]
  },
  {
   "cell_type": "code",
   "execution_count": 61,
   "metadata": {
    "scrolled": true
   },
   "outputs": [
    {
     "data": {
      "text/plain": [
       "SVR(C=1.0, cache_size=200, coef0=0.0, degree=3, epsilon=0.1,\n",
       "    gamma='auto_deprecated', kernel='rbf', max_iter=-1, shrinking=True,\n",
       "    tol=0.001, verbose=False)"
      ]
     },
     "execution_count": 61,
     "metadata": {},
     "output_type": "execute_result"
    }
   ],
   "source": [
    "svr_reg = svm.SVR()\n",
    "svr_reg.fit(x_train,y_train)"
   ]
  },
  {
   "cell_type": "code",
   "execution_count": 62,
   "metadata": {},
   "outputs": [],
   "source": [
    "# Calculates Error Rates\n",
    "\n",
    "SVM_Prediction = svr_reg.predict(x_test)\n",
    "SVM_Prediction = pd.DataFrame(SVM_Prediction, columns=['Prediction_SVM'])\n",
    "SVM_Prediction = SVM_Prediction.astype(float)\n",
    "\n",
    "SVM_Prediction = pd.concat([SVM_Prediction,y_test],axis=1)\n",
    "\n",
    "# MSE\n",
    "\n",
    "SVM_Prediction['diff'] = SVM_Prediction['Prediction_SVM'] - SVM_Prediction['Rev']\n",
    "SVM_Prediction['diff'] = SVM_Prediction['diff'] ** 2\n",
    "Sum_Squared_Error_SVM = np.sum(SVM_Prediction['diff'])/SVM_Prediction['diff'].size\n",
    "Sum_Squared_Error_SVM = Sum_Squared_Error_SVM/100000000000000000000\n",
    "\n",
    "\n",
    "# MAE\n",
    "\n",
    "SVM_Prediction['diff2'] = abs(SVM_Prediction['Prediction_SVM'] - SVM_Prediction['Rev'])\n",
    "Sum_Absolute_Error_SVM = np.sum(SVM_Prediction['diff2'])\n",
    "Sum_Absolute_Error_SVM = Sum_Absolute_Error_SVM/SVM_Prediction['diff2'].size\n",
    "Sum_Absolute_Error_SVM = Sum_Absolute_Error_SVM/10000000000"
   ]
  },
  {
   "cell_type": "code",
   "execution_count": 63,
   "metadata": {},
   "outputs": [
    {
     "name": "stdout",
     "output_type": "stream",
     "text": [
      "Prediction for the 2035 Revenue is 26.9265\n",
      "MSE is 0.01464025625\n",
      "MAE 0.06405\n"
     ]
    }
   ],
   "source": [
    "predict_svg = svr_reg.predict([[2035,17820060.0,0.65,0.15,180,90000,8500000000]])\n",
    "predict_svg = int(predict_svg)/1000000000\n",
    "print('Prediction for the 2035 Revenue is', predict_svg)\n",
    "print('MSE is', Sum_Squared_Error_SVM)\n",
    "print('MAE', Sum_Absolute_Error_SVM)"
   ]
  },
  {
   "cell_type": "markdown",
   "metadata": {},
   "source": [
    "# Model_3 - DecisionTree Regressor"
   ]
  },
  {
   "cell_type": "code",
   "execution_count": 64,
   "metadata": {},
   "outputs": [],
   "source": [
    "from sklearn.tree import DecisionTreeRegressor"
   ]
  },
  {
   "cell_type": "code",
   "execution_count": 65,
   "metadata": {},
   "outputs": [
    {
     "data": {
      "text/plain": [
       "DecisionTreeRegressor(criterion='mse', max_depth=None, max_features=None,\n",
       "                      max_leaf_nodes=None, min_impurity_decrease=0.0,\n",
       "                      min_impurity_split=None, min_samples_leaf=1,\n",
       "                      min_samples_split=2, min_weight_fraction_leaf=0.0,\n",
       "                      presort=False, random_state=0, splitter='best')"
      ]
     },
     "execution_count": 65,
     "metadata": {},
     "output_type": "execute_result"
    }
   ],
   "source": [
    "DT_reg = DecisionTreeRegressor(random_state=0)\n",
    "DT_reg.fit(x_train,y_train)"
   ]
  },
  {
   "cell_type": "code",
   "execution_count": 66,
   "metadata": {},
   "outputs": [],
   "source": [
    "# Calculates Error Rates\n",
    "\n",
    "DTR_Prediction = DT_reg.predict(x_test)\n",
    "DTR_Prediction = pd.DataFrame(DTR_Prediction, columns=['Prediction_DTR'])\n",
    "DTR_Prediction = DTR_Prediction.astype(float)\n",
    "\n",
    "DTR_Prediction = pd.concat([DTR_Prediction,y_test],axis=1)\n",
    "\n",
    "# MSE\n",
    "\n",
    "DTR_Prediction['diff'] = DTR_Prediction['Prediction_DTR'] - DTR_Prediction['Rev']\n",
    "DTR_Prediction['diff'] = DTR_Prediction['diff'] ** 2\n",
    "Sum_Squared_Error_DTR = np.sum(DTR_Prediction['diff'])/DTR_Prediction['diff'].size\n",
    "Sum_Squared_Error_DTR = Sum_Squared_Error_DTR/100000000000000000000\n",
    "\n",
    "\n",
    "# MAE\n",
    "\n",
    "DTR_Prediction['diff2'] = abs(DTR_Prediction['Prediction_DTR'] - DTR_Prediction['Rev'])\n",
    "Sum_Absolute_Error_DTR = np.sum(DTR_Prediction['diff2'])\n",
    "Sum_Absolute_Error_DTR = Sum_Absolute_Error_DTR/DTR_Prediction['diff2'].size\n",
    "Sum_Absolute_Error_DTR = Sum_Absolute_Error_DTR/10000000000"
   ]
  },
  {
   "cell_type": "code",
   "execution_count": 67,
   "metadata": {},
   "outputs": [
    {
     "name": "stdout",
     "output_type": "stream",
     "text": [
      "Prediction for the 2035 Revenue is 30.902\n",
      "MSE is 0.0075517325\n",
      "MAE 0.056725\n"
     ]
    }
   ],
   "source": [
    "predict_dtr = DT_reg.predict([[2035,17820060.0,0.65,0.15,180,90000,8500000000]])\n",
    "predict_dtr = int(predict_dtr)/1000000000\n",
    "print('Prediction for the 2035 Revenue is', predict_dtr)\n",
    "print('MSE is', Sum_Squared_Error_DTR)\n",
    "print('MAE', Sum_Absolute_Error_DTR)"
   ]
  },
  {
   "cell_type": "markdown",
   "metadata": {},
   "source": [
    "# Model_4  - Random Forest Regression"
   ]
  },
  {
   "cell_type": "code",
   "execution_count": 68,
   "metadata": {},
   "outputs": [],
   "source": [
    "from sklearn.ensemble import RandomForestRegressor"
   ]
  },
  {
   "cell_type": "code",
   "execution_count": 69,
   "metadata": {},
   "outputs": [
    {
     "data": {
      "text/plain": [
       "RandomForestRegressor(bootstrap=True, criterion='mse', max_depth=2,\n",
       "                      max_features='auto', max_leaf_nodes=None,\n",
       "                      min_impurity_decrease=0.0, min_impurity_split=None,\n",
       "                      min_samples_leaf=1, min_samples_split=2,\n",
       "                      min_weight_fraction_leaf=0.0, n_estimators=10,\n",
       "                      n_jobs=None, oob_score=False, random_state=0, verbose=0,\n",
       "                      warm_start=False)"
      ]
     },
     "execution_count": 69,
     "metadata": {},
     "output_type": "execute_result"
    }
   ],
   "source": [
    "RFR = RandomForestRegressor(max_depth=2, random_state=0)\n",
    "RFR.fit(x_train,y_train)"
   ]
  },
  {
   "cell_type": "code",
   "execution_count": 70,
   "metadata": {},
   "outputs": [],
   "source": [
    "# Calculates Error Rates\n",
    "\n",
    "RFR_Prediction = RFR.predict(x_test)\n",
    "RFR_Prediction = pd.DataFrame(RFR_Prediction, columns=['Prediction_RFR'])\n",
    "RFR_Prediction = RFR_Prediction.astype(float)\n",
    "\n",
    "RFR_Prediction = pd.concat([RFR_Prediction,y_test],axis=1)\n",
    "\n",
    "# MSE\n",
    "\n",
    "RFR_Prediction['diff'] = RFR_Prediction['Prediction_RFR'] - RFR_Prediction['Rev']\n",
    "RFR_Prediction['diff'] = RFR_Prediction['diff'] ** 2\n",
    "Sum_Squared_Error_DTR = np.sum(RFR_Prediction['diff'])/DTR_Prediction['diff'].size\n",
    "Sum_Squared_Error_DTR = Sum_Squared_Error_DTR/100000000000000000000\n",
    "\n",
    "\n",
    "# MAE\n",
    "\n",
    "RFR_Prediction['diff2'] = abs(RFR_Prediction['Prediction_RFR'] - DTR_Prediction['Rev'])\n",
    "Sum_Absolute_Error_DTR = np.sum(RFR_Prediction['diff2'])\n",
    "Sum_Absolute_Error_DTR = Sum_Absolute_Error_DTR/RFR_Prediction['diff2'].size\n",
    "Sum_Absolute_Error_DTR = Sum_Absolute_Error_DTR/10000000000"
   ]
  },
  {
   "cell_type": "code",
   "execution_count": 71,
   "metadata": {},
   "outputs": [
    {
     "name": "stdout",
     "output_type": "stream",
     "text": [
      "Prediction for the 2035 Revenue is 30.902\n",
      "MSE is 0.01497669625\n",
      "MAE 0.06535\n"
     ]
    }
   ],
   "source": [
    "predict_rfr = RFR.predict([[2035,17820060.0,0.65,0.15,180,90000,8500000000]])\n",
    "predict_rfr = int(predict_rfr)/1000000000\n",
    "print('Prediction for the 2035 Revenue is', predict_dtr)\n",
    "print('MSE is', Sum_Squared_Error_DTR)\n",
    "print('MAE', Sum_Absolute_Error_DTR)"
   ]
  },
  {
   "cell_type": "code",
   "execution_count": 72,
   "metadata": {
    "scrolled": true
   },
   "outputs": [
    {
     "name": "stdout",
     "output_type": "stream",
     "text": [
      "Prediction for the 2035 Revenue is: 4552.288517397 bn $\n",
      "Prediction for the 2035 Revenue is 26.9265\n",
      "Prediction for the 2035 Revenue is 30.902\n",
      "Prediction for the 2035 Revenue is 30.902\n"
     ]
    }
   ],
   "source": [
    "print('Prediction for the 2035 Revenue is:', predict_lr,'bn $')\n",
    "print('Prediction for the 2035 Revenue is', predict_svg)\n",
    "print('Prediction for the 2035 Revenue is', predict_dtr)\n",
    "print('Prediction for the 2035 Revenue is', predict_dtr)"
   ]
  },
  {
   "cell_type": "code",
   "execution_count": 73,
   "metadata": {
    "scrolled": true
   },
   "outputs": [
    {
     "name": "stdout",
     "output_type": "stream",
     "text": [
      "MAE 0.37961695033125\n",
      "MAE 0.06405\n",
      "MAE 0.06535\n",
      "MAE 0.06535\n"
     ]
    }
   ],
   "source": [
    "print('MAE', Sum_Absolute_Error_LR)\n",
    "print('MAE', Sum_Absolute_Error_SVM)\n",
    "print('MAE', Sum_Absolute_Error_DTR)\n",
    "print('MAE', Sum_Absolute_Error_DTR)"
   ]
  },
  {
   "cell_type": "code",
   "execution_count": 74,
   "metadata": {},
   "outputs": [
    {
     "name": "stdout",
     "output_type": "stream",
     "text": [
      "MSE is 0.29881644661411044\n",
      "MSE is 0.01464025625\n",
      "MSE is 0.01497669625\n",
      "MSE is 0.01497669625\n"
     ]
    }
   ],
   "source": [
    "print('MSE is', Sum_Squared_Error_LR)\n",
    "print('MSE is', Sum_Squared_Error_SVM)\n",
    "print('MSE is', Sum_Squared_Error_DTR)\n",
    "print('MSE is', Sum_Squared_Error_DTR)"
   ]
  },
  {
   "cell_type": "markdown",
   "metadata": {},
   "source": [
    "The selected Model is SVM Regression. It has the lowest the MSE and MAE. \n",
    "It also has the most reasonable revenue compare with the other models. "
   ]
  },
  {
   "cell_type": "markdown",
   "metadata": {},
   "source": [
    "# The Automation of the Revenue Projection for the Selected ML Model"
   ]
  },
  {
   "cell_type": "code",
   "execution_count": 75,
   "metadata": {},
   "outputs": [],
   "source": [
    "data_rev = data_prep_2.copy()\n",
    "data_rev = data_rev.iloc[:,0:10]"
   ]
  },
  {
   "cell_type": "code",
   "execution_count": 76,
   "metadata": {},
   "outputs": [],
   "source": [
    "# Rename the columns\n",
    "\n",
    "data_rev = data_rev.rename(columns={'Rev. 2012':2012,'Rev. 2013':2013,'Rev. 2014':2014,'Currency_2015':2015,\n",
    "                                                  'Rev. 2015':2015,'Rev. 2016':2016,'Rev. 2017':2017,'Currency_2018':2018,\n",
    "                                                  'Rev. 2018':2018,'Rev. 2019':2019,'Rev. 2020':2020})"
   ]
  },
  {
   "cell_type": "code",
   "execution_count": 77,
   "metadata": {},
   "outputs": [],
   "source": [
    "additional_features = additional_features[['kt of CO2 equivalent','% of Electricity from Renewables','% of Electricity from Coal',\n",
    "                         'Energy Prices','GDP','Population']]"
   ]
  },
  {
   "cell_type": "code",
   "execution_count": 78,
   "metadata": {},
   "outputs": [
    {
     "data": {
      "text/plain": [
       "'Gazprom OAO'"
      ]
     },
     "execution_count": 78,
     "metadata": {},
     "output_type": "execute_result"
    }
   ],
   "source": [
    "# Create list of the firm\n",
    "list_of_oil_companies_2 = data_rev['Company'].to_list()\n",
    "list_of_oil_companies_2[0]"
   ]
  },
  {
   "cell_type": "code",
   "execution_count": 79,
   "metadata": {},
   "outputs": [],
   "source": [
    "# Create datasets for model\n",
    "\n",
    "rn = 0\n",
    "\n",
    "for i in range(len(data_rev['Company'])):\n",
    "    list_of_oil_companies_2[i] = data_rev.iloc[rn:i+1,0:10]\n",
    "    list_of_oil_companies_2[i] = list_of_oil_companies_2[i].T\n",
    "    list_of_oil_companies_2[i] = list_of_oil_companies_2[i].reset_index()\n",
    "    len_list_2 = len(list_of_oil_companies_2[i])\n",
    "    list_of_oil_companies_2[i] = list_of_oil_companies_2[i].iloc[1:len_list_2,]\n",
    "    list_of_oil_companies_2[i] = list_of_oil_companies_2[i].rename({'index':'Years',i:'Revenue'}, axis=1)\n",
    "    list_of_oil_companies_2[i]['Revenue'] = list_of_oil_companies_2[i]['Revenue'].astype(float)\n",
    "    list_of_oil_companies_2[i]['Years'] = list_of_oil_companies_2[i]['Years'].astype(float)\n",
    "    list_of_oil_companies_2[i]['Revenue'] = list_of_oil_companies_2[i]['Revenue'].round(decimals=2)\n",
    "    rn = rn+1"
   ]
  },
  {
   "cell_type": "code",
   "execution_count": 80,
   "metadata": {},
   "outputs": [],
   "source": [
    "for i in range(len(data_rev['Company'])):\n",
    "    list_of_oil_companies_2[i] = list_of_oil_companies_2[i].reset_index()\n",
    "    list_of_oil_companies_2[i] = pd.concat([list_of_oil_companies_2[i],additional_features],axis=1)\n",
    "    list_of_oil_companies_2[i] = list_of_oil_companies_2[i].drop(columns='index')"
   ]
  },
  {
   "cell_type": "code",
   "execution_count": 81,
   "metadata": {},
   "outputs": [],
   "source": [
    "# Prepare test and train split for model\n",
    "\n",
    "Company_year_2 = data_rev['Company'].to_list()\n",
    "Company_revenue_2 = data_rev['Company'].to_list()\n",
    "\n",
    "Company_year_train_2 = data_rev['Company'].to_list()\n",
    "Company_year_test_2 = data_rev['Company'].to_list()\n",
    "Company_revenue_train_2 = data_rev['Company'].to_list()\n",
    "Company_revenue_test_2 = data_rev['Company'].to_list()\n",
    "\n",
    "for i in range(len(data_rev['Company'])):\n",
    "    Company_year_2[i] = list_of_oil_companies_2[i][['Years','kt of CO2 equivalent','% of Electricity from Renewables',\n",
    "                                                   '% of Electricity from Coal','Energy Prices','GDP','Population']]\n",
    "    Company_revenue_2[i] = list_of_oil_companies_2[i]['Revenue']\n",
    "    Company_year_train_2[i], Company_year_test_2[i], Company_revenue_train_2[i], Company_revenue_test_2[i] = train_test_split(Company_year_2[i],Company_revenue_2[i],test_size=0.33, random_state=0)\n",
    "    "
   ]
  },
  {
   "cell_type": "code",
   "execution_count": 82,
   "metadata": {},
   "outputs": [],
   "source": [
    "# SVM Regression - Predict Revenue\n",
    "\n",
    "P_Revenue_2035 = data_rev['Company'].to_list()\n",
    "\n",
    "Revenue_2035 = pd.DataFrame([], columns =['Revenue_2035'])\n",
    "\n",
    "for i in range(len(data_rev['Company'])):\n",
    "    \n",
    "    svr_reg = svm.SVR()\n",
    "    svr_reg.fit(pd.DataFrame(Company_year_train_2[i]),pd.DataFrame(Company_revenue_train_2[i]))\n",
    "    P_Revenue_2035[i] = svr_reg.predict([[2035,17820060.0,0.65,0.15,180,90000,8500000000]])\n",
    "\n",
    "    df_2 = pd.DataFrame(P_Revenue_2035[i], columns=['Revenue_2035'])\n",
    "    \n",
    "    Revenue_2035 = pd.concat([Revenue_2035,df_2])\n",
    "    \n",
    "Revenue_2035 = Revenue_2035.reset_index()\n",
    "Revenue_2035 = Revenue_2035.drop(columns='index')"
   ]
  },
  {
   "cell_type": "code",
   "execution_count": 83,
   "metadata": {},
   "outputs": [],
   "source": [
    "# Revenue 2035 \n",
    "\n",
    "Revenue_2035 = pd.concat([data_rev,Revenue_2035],axis=1)"
   ]
  },
  {
   "cell_type": "markdown",
   "metadata": {},
   "source": [
    "# The Automation of the Profit Projection for the Selected ML Model"
   ]
  },
  {
   "cell_type": "code",
   "execution_count": 84,
   "metadata": {},
   "outputs": [],
   "source": [
    "data_pr_1 = data_prep_2.copy()\n",
    "data_pr_2 = data_pr_1.iloc[:,10:]\n",
    "data_c_3  = data_prep_2.iloc[:,0:1]\n",
    "data_pr = pd.concat([data_c_3,data_pr_2],axis=1)"
   ]
  },
  {
   "cell_type": "code",
   "execution_count": 85,
   "metadata": {},
   "outputs": [],
   "source": [
    "# Rename the columns\n",
    "\n",
    "data_pr = data_pr.rename(columns={'Profit 2012':2012,'Profit 2013':2013,'Profit 2014':2014,'Profit 2015':2015,\n",
    "                                  'Profit 2016':2016,'Profit 2017':2017,'Profit 2018':2018,'Profit 2019':2019,\n",
    "                                  'Profit 2020':2020})"
   ]
  },
  {
   "cell_type": "code",
   "execution_count": 86,
   "metadata": {},
   "outputs": [],
   "source": [
    "additional_features = additional_features[['kt of CO2 equivalent','% of Electricity from Renewables','% of Electricity from Coal',\n",
    "                         'Energy Prices','GDP','Population']]"
   ]
  },
  {
   "cell_type": "code",
   "execution_count": 87,
   "metadata": {},
   "outputs": [
    {
     "data": {
      "text/plain": [
       "'Gazprom OAO'"
      ]
     },
     "execution_count": 87,
     "metadata": {},
     "output_type": "execute_result"
    }
   ],
   "source": [
    "# Create list of the firm\n",
    "list_of_oil_companies_3 = data_pr['Company'].to_list()\n",
    "list_of_oil_companies_3[0]"
   ]
  },
  {
   "cell_type": "code",
   "execution_count": 88,
   "metadata": {},
   "outputs": [],
   "source": [
    "# Create datasets for model\n",
    "\n",
    "rn = 0\n",
    "\n",
    "for i in range(len(data_pr['Company'])):\n",
    "    list_of_oil_companies_3[i] = data_pr.iloc[rn:i+1,0:10]\n",
    "    list_of_oil_companies_3[i] = list_of_oil_companies_3[i].T\n",
    "    list_of_oil_companies_3[i] = list_of_oil_companies_3[i].reset_index()\n",
    "    len_list_3 = len(list_of_oil_companies_3[i])\n",
    "    list_of_oil_companies_3[i] = list_of_oil_companies_3[i].iloc[1:len_list_3,]\n",
    "    list_of_oil_companies_3[i] = list_of_oil_companies_3[i].rename({'index':'Years',i:'Profit'}, axis=1)\n",
    "    list_of_oil_companies_3[i]['Profit'] = list_of_oil_companies_3[i]['Profit'].astype(float)\n",
    "    list_of_oil_companies_3[i]['Years'] = list_of_oil_companies_3[i]['Years'].astype(float)\n",
    "    list_of_oil_companies_3[i]['Profit'] = list_of_oil_companies_3[i]['Profit'].round(decimals=2)\n",
    "    rn = rn+1"
   ]
  },
  {
   "cell_type": "code",
   "execution_count": 89,
   "metadata": {},
   "outputs": [],
   "source": [
    "for i in range(len(data_pr['Company'])):\n",
    "    list_of_oil_companies_3[i] = list_of_oil_companies_3[i].reset_index()\n",
    "    list_of_oil_companies_3[i] = pd.concat([list_of_oil_companies_3[i],additional_features],axis=1)\n",
    "    list_of_oil_companies_3[i] = list_of_oil_companies_3[i].drop(columns='index')"
   ]
  },
  {
   "cell_type": "code",
   "execution_count": 90,
   "metadata": {},
   "outputs": [],
   "source": [
    "# Prepare test and train split for model\n",
    "\n",
    "Company_year_3 = data_pr['Company'].to_list()\n",
    "Company_profit_3 = data_pr['Company'].to_list()\n",
    "\n",
    "Company_year_train_3    = data_pr['Company'].to_list()\n",
    "Company_year_test_3     = data_pr['Company'].to_list()\n",
    "Company_profit_train_3  = data_pr['Company'].to_list()\n",
    "Company_profit_test_3   = data_pr['Company'].to_list()\n",
    "\n",
    "for i in range(len(data_pr['Company'])):\n",
    "    Company_year_3[i] = list_of_oil_companies_3[i][['Years','kt of CO2 equivalent','% of Electricity from Renewables',\n",
    "                                                   '% of Electricity from Coal','Energy Prices','GDP','Population']]\n",
    "    Company_profit_3[i] = list_of_oil_companies_3[i]['Profit']\n",
    "    Company_year_train_3[i], Company_year_test_3[i], Company_profit_train_3[i], Company_profit_test_3[i] = train_test_split(Company_year_3[i],Company_profit_3[i],test_size=0.33, random_state=0)\n",
    "    "
   ]
  },
  {
   "cell_type": "code",
   "execution_count": 91,
   "metadata": {},
   "outputs": [],
   "source": [
    "# SVM Regression - Predict Profit\n",
    "\n",
    "P_Profit_2035 = data_pr['Company'].to_list()\n",
    "\n",
    "Profit_2035 = pd.DataFrame([], columns =['Profit_2035'])\n",
    "\n",
    "for i in range(len(data_pr['Company'])):\n",
    "    \n",
    "    svr_reg = svm.SVR()\n",
    "    svr_reg.fit(pd.DataFrame(Company_year_train_3[i]),pd.DataFrame(Company_profit_train_3[i]))\n",
    "    P_Revenue_2035[i] = svr_reg.predict([[2035,17820060.0,0.65,0.15,180,90000,8500000000]])\n",
    "\n",
    "    df_3 = pd.DataFrame(P_Revenue_2035[i], columns=['Profit_2035'])\n",
    "    \n",
    "    Profit_2035 = pd.concat([Profit_2035,df_3])\n",
    "    \n",
    "Profit_2035 = Profit_2035.reset_index()\n",
    "Profit_2035 = Profit_2035.drop(columns='index')"
   ]
  },
  {
   "cell_type": "code",
   "execution_count": 92,
   "metadata": {},
   "outputs": [],
   "source": [
    "# Revenue 2035 \n",
    "\n",
    "Profit_2035 = pd.concat([data_pr,Profit_2035],axis=1)"
   ]
  },
  {
   "cell_type": "code",
   "execution_count": 93,
   "metadata": {},
   "outputs": [],
   "source": [
    "Revenue_2035 = Revenue_2035[['Company','Revenue_2035']]\n",
    "Profit_2035  = Profit_2035[['Company','Profit_2035']]"
   ]
  },
  {
   "cell_type": "code",
   "execution_count": 94,
   "metadata": {},
   "outputs": [],
   "source": [
    "Revenue_2035 = Revenue_2035.merge(Profit_2035, on='Company', how='left')"
   ]
  },
  {
   "cell_type": "code",
   "execution_count": 95,
   "metadata": {},
   "outputs": [],
   "source": [
    "Emission_2035 = Revenue_2035.merge(Emission_2035, on='Company', how='left')"
   ]
  },
  {
   "cell_type": "code",
   "execution_count": 96,
   "metadata": {},
   "outputs": [
    {
     "data": {
      "text/html": [
       "<div>\n",
       "<style scoped>\n",
       "    .dataframe tbody tr th:only-of-type {\n",
       "        vertical-align: middle;\n",
       "    }\n",
       "\n",
       "    .dataframe tbody tr th {\n",
       "        vertical-align: top;\n",
       "    }\n",
       "\n",
       "    .dataframe thead th {\n",
       "        text-align: right;\n",
       "    }\n",
       "</style>\n",
       "<table border=\"1\" class=\"dataframe\">\n",
       "  <thead>\n",
       "    <tr style=\"text-align: right;\">\n",
       "      <th></th>\n",
       "      <th>Company</th>\n",
       "      <th>Revenue_2035</th>\n",
       "      <th>Profit_2035</th>\n",
       "      <th>Emission_2035</th>\n",
       "    </tr>\n",
       "  </thead>\n",
       "  <tbody>\n",
       "    <tr>\n",
       "      <th>0</th>\n",
       "      <td>Gazprom OAO</td>\n",
       "      <td>1.057493e+11</td>\n",
       "      <td>1.401724e+10</td>\n",
       "      <td>1419.955287</td>\n",
       "    </tr>\n",
       "  </tbody>\n",
       "</table>\n",
       "</div>"
      ],
      "text/plain": [
       "       Company  Revenue_2035   Profit_2035  Emission_2035\n",
       "0  Gazprom OAO  1.057493e+11  1.401724e+10    1419.955287"
      ]
     },
     "execution_count": 96,
     "metadata": {},
     "output_type": "execute_result"
    }
   ],
   "source": [
    "Emission_2035.head(1)"
   ]
  },
  {
   "cell_type": "code",
   "execution_count": 98,
   "metadata": {},
   "outputs": [],
   "source": [
    "financials_2_visualize = financials_2[['Company','Rev. 2015','Rev. 2020']]\n",
    "financials_2_visualize = financials_2_visualize.merge(Emission_2035, on='Company', how='left')\n",
    "financials_2_visualize = financials_2_visualize[['Company','Rev. 2015','Rev. 2020','Revenue_2035']]\n",
    "financials_2_visualize = financials_2_visualize.rename(columns={'Rev. 2015':2015,'Rev. 2020':2020,'Revenue_2035':2035})"
   ]
  },
  {
   "cell_type": "code",
   "execution_count": 100,
   "metadata": {},
   "outputs": [],
   "source": [
    "financials_2_visualize = financials_2_visualize.sort_values([2020], ascending=False)\n",
    "financials_2_visualize = financials_2_visualize.iloc[:5,:]\n",
    "financials_2_visualize = financials_2_visualize.reset_index()\n",
    "financials_2_visualize.drop(columns='index', inplace=True)\n",
    "financials_2_visualize_T = financials_2_visualize.T"
   ]
  },
  {
   "cell_type": "code",
   "execution_count": 103,
   "metadata": {},
   "outputs": [],
   "source": [
    "financials_2_visualize_T.columns = financials_2_visualize_T.iloc[0]\n",
    "financials_2_visualize_T = financials_2_visualize_T[1:]\n",
    "financials_2_visualize_T = financials_2_visualize_T.reset_index()\n",
    "financials_2_visualize_T = financials_2_visualize_T.rename({'index' : 'Year'},axis=1)"
   ]
  },
  {
   "cell_type": "code",
   "execution_count": 104,
   "metadata": {},
   "outputs": [
    {
     "data": {
      "image/png": "[encoded data removed]",
      "text/plain": [
       "<Figure size 864x576 with 1 Axes>"
      ]
     },
     "metadata": {
      "needs_background": "light"
     },
     "output_type": "display_data"
    }
   ],
   "source": [
    "plt.figure(figsize=(12, 8))\n",
    "\n",
    "for i in financials_2_visualize_T.columns[1:]: \n",
    "    plt.plot(financials_2_visualize_T['Year'],financials_2_visualize_T[i], label=i)\n",
    "       \n",
    "plt.title('Revenue Prediction')\n",
    "    \n",
    "plt.xlabel('Years')\n",
    "plt.ylabel('Revenue Million Euro')\n",
    "\n",
    "plt.legend(loc=\"upper left\")\n",
    "plt.show()"
   ]
  },
  {
   "cell_type": "code",
   "execution_count": null,
   "metadata": {},
   "outputs": [],
   "source": [
    "#Emission_2035.to_excel('/Users/ilyasozgur/Desktop/Thesis/Models/Model_for_Thesis/Model_1/2035.xlsx')"
   ]
  }
 ],
 "metadata": {
  "kernelspec": {
   "display_name": "Python 3",
   "language": "python",
   "name": "python3"
  },
  "language_info": {
   "codemirror_mode": {
    "name": "ipython",
    "version": 3
   },
   "file_extension": ".py",
   "mimetype": "text/x-python",
   "name": "python",
   "nbconvert_exporter": "python",
   "pygments_lexer": "ipython3",
   "version": "3.7.4"
  }
 },
 "nbformat": 4,
 "nbformat_minor": 2
}
